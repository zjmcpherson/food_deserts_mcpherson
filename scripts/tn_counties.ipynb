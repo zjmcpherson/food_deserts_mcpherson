{
 "cells": [
  {
   "cell_type": "code",
   "execution_count": null,
   "id": "10f37c6d",
   "metadata": {},
   "outputs": [],
   "source": [
    "import pandas as pd\n",
    "import matplotlib.pyplot as plt\n",
    "import seaborn as sns\n",
    "import plotly.express as px\n",
    "#import geopandas as gpd"
   ]
  },
  {
   "cell_type": "code",
   "execution_count": null,
   "id": "d3e3bac1",
   "metadata": {},
   "outputs": [],
   "source": [
    "tn_df = pd.read_csv('../data/tn_county_data.csv', header = 1)\n",
    "tn_pop = pd.read_csv('../data/tn_pop.csv', header = 1)\n",
    "tn_2011 = pd.read_csv('../data/tn_obesity_2011.csv', header = 1)\n",
    "#tn_counties = gpd.read_file('../data/county/tncounty.shp')"
   ]
  },
  {
   "cell_type": "code",
   "execution_count": null,
   "id": "063135d5",
   "metadata": {},
   "outputs": [],
   "source": [
    "tn_df.reset_index(drop = True)"
   ]
  },
  {
   "cell_type": "code",
   "execution_count": null,
   "id": "b7284057",
   "metadata": {},
   "outputs": [],
   "source": [
    "# subset for obesity by tn county\n",
    "\n",
    "tn_county_obesity = tn_df[['State', 'County', '% Adults with Obesity']]\n",
    "tn_county_obesity.tail(10)"
   ]
  },
  {
   "cell_type": "code",
   "execution_count": null,
   "id": "32869ec0",
   "metadata": {},
   "outputs": [],
   "source": [
    "tn_pop.head()"
   ]
  },
  {
   "cell_type": "code",
   "execution_count": null,
   "id": "35da2f79",
   "metadata": {},
   "outputs": [],
   "source": [
    "#subset for tn_pop\n",
    "\n",
    "tn_pop = tn_pop[['State', 'County', 'Population','Median Household Income']]"
   ]
  },
  {
   "cell_type": "code",
   "execution_count": null,
   "id": "3b6ed978",
   "metadata": {},
   "outputs": [],
   "source": [
    "#brought this df in to make a comparison between 2022 and 2011 obesity rates\n",
    "\n",
    "tn_2011 = tn_2011[['State', 'County', '% Obese']]"
   ]
  },
  {
   "cell_type": "code",
   "execution_count": null,
   "id": "f6cdd3b1",
   "metadata": {},
   "outputs": [],
   "source": [
    "#renamed the column so there wont be any confusion later\n",
    "\n",
    "tn_2011 = tn_2011.rename(columns = {'% Obese': 'obesity_2011'})"
   ]
  },
  {
   "cell_type": "code",
   "execution_count": null,
   "id": "828ec32f",
   "metadata": {},
   "outputs": [],
   "source": [
    "#dropped the NaN value\n",
    "\n",
    "tn_2011 = tn_2011.iloc[1:96]"
   ]
  },
  {
   "cell_type": "code",
   "execution_count": null,
   "id": "ac582bd2",
   "metadata": {},
   "outputs": [],
   "source": [
    "tn_2011.reset_index(drop = True)"
   ]
  },
  {
   "cell_type": "code",
   "execution_count": null,
   "id": "eae64416",
   "metadata": {},
   "outputs": [],
   "source": [
    "#merged tn_pop with most recent obesity rates df\n",
    "\n",
    "tn_county = pd.merge(tn_county_obesity, tn_pop, left_on = 'County', right_on = 'County', how = 'inner')"
   ]
  },
  {
   "cell_type": "code",
   "execution_count": null,
   "id": "87c3064d",
   "metadata": {},
   "outputs": [],
   "source": [
    "#dropped duplicate columns\n",
    "\n",
    "tn_county = tn_county.drop(columns = 'State_y')"
   ]
  },
  {
   "cell_type": "code",
   "execution_count": null,
   "id": "7fa41c52",
   "metadata": {},
   "outputs": [],
   "source": [
    "#population count of obesity\n",
    "\n",
    "tn_county['pop_with_obesity'] = round((tn_county['Population'] * tn_county['% Adults with Obesity']) / 100,0)"
   ]
  },
  {
   "cell_type": "code",
   "execution_count": null,
   "id": "b656ad21",
   "metadata": {},
   "outputs": [],
   "source": [
    "#dropped NaN value\n",
    "\n",
    "tn_county = tn_county.iloc[1:96]"
   ]
  },
  {
   "cell_type": "code",
   "execution_count": null,
   "id": "e4491fd2",
   "metadata": {},
   "outputs": [],
   "source": [
    "#renamed columns\n",
    "\n",
    "tn_county = tn_county.rename(columns = {'% Adults with Obesity': 'obesity_perc_2022','State_x':'state','Median Household Income':'median_income'})"
   ]
  },
  {
   "cell_type": "code",
   "execution_count": null,
   "id": "f5a3074a",
   "metadata": {},
   "outputs": [],
   "source": [
    "\n",
    "fig = px.bar(tn_county, x = 'pop_with_obesity', y = 'County', orientation = 'h')\n",
    "fig.show()"
   ]
  },
  {
   "cell_type": "code",
   "execution_count": null,
   "id": "54193b8c",
   "metadata": {},
   "outputs": [],
   "source": [
    "\n",
    "\n",
    "fig = px.scatter(tn_county, x = 'obesity_perc_2022', y= 'Population', title = 'TN Pop and Obesity Percentage')\n",
    "fig.show()"
   ]
  },
  {
   "cell_type": "code",
   "execution_count": null,
   "id": "65e9e576",
   "metadata": {},
   "outputs": [],
   "source": [
    "\n",
    "fg = px.scatter(tn_county, x = 'obesity_perc_2022', y= 'median_income',\n",
    "                title = 'Median Household Income and Obesity Percentage')\n",
    "fg.show()"
   ]
  },
  {
   "cell_type": "code",
   "execution_count": null,
   "id": "43007e9a",
   "metadata": {
    "scrolled": true
   },
   "outputs": [],
   "source": [
    "tn_county.head()"
   ]
  },
  {
   "cell_type": "code",
   "execution_count": null,
   "id": "5be23783",
   "metadata": {},
   "outputs": [],
   "source": [
    "# #read in dataframes from food_access notebook\n",
    "\n",
    "tn_county_ff = pd.read_csv('../data/tn_ff.csv')\n",
    "tn_grocery = pd.read_csv('../data/tn_grocery.csv')\n",
    "tn_farms = pd.read_csv('../data/tn_farms.csv')"
   ]
  },
  {
   "cell_type": "code",
   "execution_count": null,
   "id": "5aa6634d",
   "metadata": {},
   "outputs": [],
   "source": [
    "#fast food per capita for all of tennessee counties\n",
    "\n",
    "ff_percap = tn_county_ff.loc[tn_county_ff['ff_year'] == 'FFRPTH16']\n",
    "ff_percap.head()"
   ]
  },
  {
   "cell_type": "code",
   "execution_count": null,
   "id": "61861fef",
   "metadata": {
    "scrolled": true
   },
   "outputs": [],
   "source": [
    "#merged fast food data frame and tn_county dataframe\n",
    "\n",
    "tn_county = pd.merge(tn_county, ff_percap, left_on = 'County', right_on = 'County', how = 'inner')"
   ]
  },
  {
   "cell_type": "code",
   "execution_count": null,
   "id": "92938dd1",
   "metadata": {},
   "outputs": [],
   "source": [
    "#dropped duplicate columns\n",
    "\n",
    "tn_county = tn_county[['state', 'County', 'obesity_perc_2022', 'Population', 'median_income', 'pop_with_obesity',\n",
    "          'ff_year', 'count']]"
   ]
  },
  {
   "cell_type": "code",
   "execution_count": null,
   "id": "6f8cbbc6",
   "metadata": {},
   "outputs": [],
   "source": [
    "#renamed fast food value column\n",
    "\n",
    "tn_county = tn_county.rename(columns = {'count':'ff_per1k'})"
   ]
  },
  {
   "cell_type": "code",
   "execution_count": null,
   "id": "fa4277d3",
   "metadata": {},
   "outputs": [],
   "source": [
    "# duplicated code. revisited this in the food_access notebook\n",
    "\n",
    "tn_grocery = tn_grocery.groupby(['County'])['Value'].sum().to_frame().reset_index().rename(columns = {'Value':'grocery_store_count'})"
   ]
  },
  {
   "cell_type": "code",
   "execution_count": null,
   "id": "2c69fa94",
   "metadata": {},
   "outputs": [],
   "source": [
    "#merged grocery stores to tn_county\n",
    "\n",
    "tn_county = pd.merge(tn_county, tn_grocery, left_on = 'County', right_on = 'County', how = 'inner')\n",
    "tn_county"
   ]
  },
  {
   "cell_type": "code",
   "execution_count": null,
   "id": "d923f781",
   "metadata": {},
   "outputs": [],
   "source": [
    "#cleaned up columns\n",
    "\n",
    "tn_county = tn_county.rename(columns = {'Variable_Code':'grocery_stores', 'Value':'groc_count'})"
   ]
  },
  {
   "cell_type": "code",
   "execution_count": null,
   "id": "eca1f4f8",
   "metadata": {},
   "outputs": [],
   "source": [
    "# berry, farmers' markets, orchard, and vegetable farms \n",
    "\n",
    "tn_farm_count = tn_farms.groupby('County')['Value'].sum().to_frame().reset_index().rename(columns = {'Value':'farm_count'})"
   ]
  },
  {
   "cell_type": "code",
   "execution_count": null,
   "id": "61def612",
   "metadata": {},
   "outputs": [],
   "source": [
    "#merged famrs to rest of the tn dataframe\n",
    "\n",
    "tn_county = pd.merge(tn_county, tn_farm_count, left_on = 'County', right_on = 'County', how = 'inner')"
   ]
  },
  {
   "cell_type": "code",
   "execution_count": null,
   "id": "79a45352",
   "metadata": {},
   "outputs": [],
   "source": [
    "tn_county.head(1)"
   ]
  },
  {
   "cell_type": "code",
   "execution_count": null,
   "id": "7239270c",
   "metadata": {},
   "outputs": [],
   "source": [
    "#merged 2011 obesity rates with tn_county\n",
    "\n",
    "tn_county = pd.merge(tn_county, tn_2011, left_on = 'County', right_on = 'County', how = 'inner')"
   ]
  },
  {
   "cell_type": "code",
   "execution_count": null,
   "id": "9e9c5190",
   "metadata": {},
   "outputs": [],
   "source": [
    "#dropped duplicate State\n",
    "\n",
    "tn_county = tn_county.drop(columns = {'State'})"
   ]
  },
  {
   "cell_type": "code",
   "execution_count": null,
   "id": "6482fbea",
   "metadata": {},
   "outputs": [],
   "source": [
    "#changed obesity into a usable format\n",
    "\n",
    "tn_county.obesity_2011 = tn_county.obesity_2011.astype(int)\n",
    "tn_county.pop_with_obesity = tn_county.pop_with_obesity.astype(int)"
   ]
  },
  {
   "cell_type": "code",
   "execution_count": null,
   "id": "ecafd383",
   "metadata": {},
   "outputs": [],
   "source": [
    "# tn_county['Population']/tn_county['farm_count']"
   ]
  },
  {
   "cell_type": "code",
   "execution_count": null,
   "id": "91e5e47c",
   "metadata": {},
   "outputs": [],
   "source": [
    "#use for dashboard\n",
    "tn_county.to_csv('../data/dashboard_csv/tenn_county_food_environment.csv', index =False)"
   ]
  },
  {
   "cell_type": "code",
   "execution_count": null,
   "id": "f3677ff8",
   "metadata": {
    "scrolled": false
   },
   "outputs": [],
   "source": [
    "import plotly.graph_objects as go\n",
    "\n",
    "\n",
    "fig = go.Figure()\n",
    "fig.add_trace(go.Bar(\n",
    "    x = tn_county['County'],\n",
    "    y = tn_county['obesity_2011'],\n",
    "    name = '2011 Obesity Percentage',\n",
    "    marker_color = 'rgb(55,83,109)'\n",
    "))\n",
    "fig.add_trace(go.Bar(\n",
    "    x = tn_county['County'],\n",
    "    y = tn_county['obesity_perc_2022'],\n",
    "    name = '2022 Obesity Percentage',\n",
    "    marker_color = 'rgb(26,118,255)'\n",
    "))\n",
    "\n",
    "fig.update_layout(barmode = 'group',bargap = 0.25, bargroupgap = 0.1, xaxis_tickangle = 90)\n",
    "fig.show()"
   ]
  },
  {
   "cell_type": "code",
   "execution_count": null,
   "id": "da72dbc0",
   "metadata": {},
   "outputs": [],
   "source": [
    "#tn_counties.head()"
   ]
  },
  {
   "cell_type": "code",
   "execution_count": null,
   "id": "54e75895",
   "metadata": {},
   "outputs": [],
   "source": [
    "#tn_counties = pd.merge(left = tn_counties, right = tn_county, left_on = 'NAME', right_on = 'County')"
   ]
  },
  {
   "cell_type": "code",
   "execution_count": null,
   "id": "04273e9c",
   "metadata": {},
   "outputs": [],
   "source": [
    "#type(tn_counties)"
   ]
  },
  {
   "cell_type": "code",
   "execution_count": null,
   "id": "50acf754",
   "metadata": {},
   "outputs": [],
   "source": [
    "# fig, ax = plt.subplots(figsize = (16,4))\n",
    "# tn_counties.plot(column = 'obesity_perc',\n",
    "#                 cmap = 'OrRd',\n",
    "#                 edgecolor = 'black',\n",
    "#                 legend = True,\n",
    "#                 ax = ax)\n",
    "# plt.title('Obesity Rate by County, 2021', fontsize = 14)\n",
    "# ax.axis('off');"
   ]
  },
  {
   "cell_type": "code",
   "execution_count": null,
   "id": "9e5977a1",
   "metadata": {},
   "outputs": [],
   "source": []
  },
  {
   "cell_type": "code",
   "execution_count": null,
   "id": "443e8b4c",
   "metadata": {},
   "outputs": [],
   "source": []
  },
  {
   "cell_type": "markdown",
   "id": "6f629fa5",
   "metadata": {},
   "source": [
    "###### What are the obesity rates for places with more accessibility to fast food?\n",
    "                - add indexes for counties (count of fast food per capita/farms/grocery stores)\n",
    "                - tableau for rest of visualizations\n",
    "###### What are the trends for urban vs rural food deserts? (Food desert being defined as a supermarket not within 10 miles for rural areas)\n",
    "###### Does obesity vary by income?\n",
    "###### How does obesity vary by region in the United States? "
   ]
  },
  {
   "cell_type": "markdown",
   "id": "b34be131",
   "metadata": {},
   "source": [
    "###### In this capstone project, I will be utilizing Python to do an analysis on different factors that could potentially impact obesity rates in Tennessee counties and other regions of the U.S. My goal is to create multiple visualizations, including an interactive map and dashboard to tell the story of the data. With this project, I hope to form an analysis by identifying rural and urban food desert trends by comparing specific regions to one another. I will also be looking at median household incomes to see if there is a correlation with other factors in the analysis. (Is there a higher median household income in cities with lower obesity rates?) Finally, I would like to analyze food access (fast-food restaurants/1,000 people, grocery stores, farmers’ market, etc.) for Tennessee counties. My stretch goal is to see if there is a significant impact on walkable cities on obesity."
   ]
  },
  {
   "cell_type": "code",
   "execution_count": null,
   "id": "37e1d07d",
   "metadata": {},
   "outputs": [],
   "source": []
  }
 ],
 "metadata": {
  "kernelspec": {
   "display_name": "Python 3 (ipykernel)",
   "language": "python",
   "name": "python3"
  },
  "language_info": {
   "codemirror_mode": {
    "name": "ipython",
    "version": 3
   },
   "file_extension": ".py",
   "mimetype": "text/x-python",
   "name": "python",
   "nbconvert_exporter": "python",
   "pygments_lexer": "ipython3",
   "version": "3.9.13"
  }
 },
 "nbformat": 4,
 "nbformat_minor": 5
}
