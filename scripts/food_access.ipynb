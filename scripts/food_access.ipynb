{
 "cells": [
  {
   "cell_type": "code",
   "execution_count": null,
   "id": "3606b9d9",
   "metadata": {},
   "outputs": [],
   "source": [
    "import pandas as pd\n",
    "import plotly.express as px\n",
    "import numpy as np"
   ]
  },
  {
   "cell_type": "code",
   "execution_count": null,
   "id": "9ba97adb",
   "metadata": {},
   "outputs": [],
   "source": [
    "food_df = pd.read_csv('../data/food_access_data.csv')\n",
    "rural_county = pd.read_csv('../data/rural_county.csv', header = 1)\n",
    "tn_df = pd.read_csv('../data/tn_county_data.csv', header = 1)\n",
    "state_county = pd.read_csv('../data/StateAndCountyData.csv')\n",
    "national_df = pd.read_csv('../data/national_data.csv', header = 1)\n",
    "usa_dataset = pd.read_csv('../data/usa_dataset.csv', header = 1)"
   ]
  },
  {
   "cell_type": "code",
   "execution_count": null,
   "id": "21ca09b1",
   "metadata": {
    "scrolled": true
   },
   "outputs": [],
   "source": [
    "rural_county.head()"
   ]
  },
  {
   "cell_type": "code",
   "execution_count": null,
   "id": "39f153fb",
   "metadata": {},
   "outputs": [],
   "source": [
    "food_df.isna().sum()"
   ]
  },
  {
   "cell_type": "code",
   "execution_count": null,
   "id": "8bcb1043",
   "metadata": {},
   "outputs": [],
   "source": [
    "food_df.shape"
   ]
  },
  {
   "cell_type": "code",
   "execution_count": null,
   "id": "23e5d1f7",
   "metadata": {},
   "outputs": [],
   "source": [
    "# only look at tennessee's food environment\n",
    "\n",
    "tn_fa = food_df.loc[food_df['State'] == 'Tennessee']\n",
    "tn_fa = tn_fa.reset_index(drop=True)\n",
    "tn_fa"
   ]
  },
  {
   "cell_type": "code",
   "execution_count": null,
   "id": "999acbab",
   "metadata": {},
   "outputs": [],
   "source": [
    "# subset tn food access\n",
    "\n",
    "tn_fa = tn_fa[['CensusTract','State','County','Urban','Pop2010','MedianFamilyIncome','PovertyRate','LA1and10','LATracts1','LATracts10','LATracts20',\n",
    "         'LAPOP1_10','lapop1','lapop10','lapop20','TractLOWI','TractHUNV']]"
   ]
  },
  {
   "cell_type": "code",
   "execution_count": null,
   "id": "a0742719",
   "metadata": {},
   "outputs": [],
   "source": [
    "#cleaned up columns for tn_fa\n",
    "\n",
    "tn_fa = tn_fa.rename(columns = {'LATracts1':'low_access_one','LATracts10':'low_access_10','LATracts20':'low_access_20',\n",
    "                                'LAPOP1_10':'la_numbers','TractLOWI':'low_income_pop', 'TractHUNV':'no_vehicle'})"
   ]
  },
  {
   "cell_type": "code",
   "execution_count": null,
   "id": "8c5be64f",
   "metadata": {
    "scrolled": true
   },
   "outputs": [],
   "source": [
    "#dropped \"County\" in County name == \"Blount County\" - \"Blount\"\n",
    "\n",
    "tn_fa['County'] = tn_fa.County.str[:-7]"
   ]
  },
  {
   "cell_type": "code",
   "execution_count": null,
   "id": "c312819a",
   "metadata": {},
   "outputs": [],
   "source": [
    "#sum of population 10 miles away from grocery store\n",
    "\n",
    "low_access_10 = tn_fa.groupby('County')['lapop10'].sum().to_frame().reset_index()"
   ]
  },
  {
   "cell_type": "code",
   "execution_count": null,
   "id": "21c1280d",
   "metadata": {},
   "outputs": [],
   "source": [
    "# total population effected by a food desert\n",
    "\n",
    "total_low_access = tn_fa.groupby('County')['la_numbers'].sum().to_frame().reset_index()"
   ]
  },
  {
   "cell_type": "code",
   "execution_count": null,
   "id": "10d17c08",
   "metadata": {
    "scrolled": true
   },
   "outputs": [],
   "source": [
    "#EDA of most rural counties in tn\n",
    "\n",
    "rural_county.sort_values('% rural', ascending = False).head(20)"
   ]
  },
  {
   "cell_type": "code",
   "execution_count": null,
   "id": "0f760bdc",
   "metadata": {},
   "outputs": [],
   "source": [
    "#data for number of rural residents in tn\n",
    "\n",
    "rural_county = rural_county[['FIPS', 'State', 'County', 'Population','# rural residents', '% rural', 'Median Household Income',\n",
    "             '% Insufficient Sleep', '% Enrolled in Free or Reduced Lunch', '% Less Than 18 Years of Age']]"
   ]
  },
  {
   "cell_type": "code",
   "execution_count": null,
   "id": "ce21df56",
   "metadata": {
    "scrolled": true
   },
   "outputs": [],
   "source": [
    "rural_county"
   ]
  },
  {
   "cell_type": "code",
   "execution_count": null,
   "id": "7e4fa568",
   "metadata": {},
   "outputs": [],
   "source": [
    "tn_df.head()"
   ]
  },
  {
   "cell_type": "code",
   "execution_count": null,
   "id": "3933da5a",
   "metadata": {},
   "outputs": [],
   "source": [
    "# subset of tn_df\n",
    "\n",
    "tn_df = tn_df[['County', '% Adults with Obesity', '# Some College', '% Children in Poverty', '20th Percentile Income']]"
   ]
  },
  {
   "cell_type": "code",
   "execution_count": null,
   "id": "e3c15a2a",
   "metadata": {},
   "outputs": [],
   "source": [
    "#merged low access numbers subsets\n",
    "\n",
    "food_desert_numbers = pd.merge(low_access_10, total_low_access, left_on = 'County', right_on = 'County', how = 'inner')"
   ]
  },
  {
   "cell_type": "code",
   "execution_count": null,
   "id": "d7517b59",
   "metadata": {},
   "outputs": [],
   "source": [
    "food_desert_numbers.head(1)"
   ]
  },
  {
   "cell_type": "code",
   "execution_count": null,
   "id": "797f25a1",
   "metadata": {},
   "outputs": [],
   "source": [
    "#merged food deserts with rural county to start aggregations for population effected\n",
    "\n",
    "food_deserts = pd.merge(food_desert_numbers, rural_county, left_on = 'County', right_on = 'County', how = 'inner')"
   ]
  },
  {
   "cell_type": "code",
   "execution_count": null,
   "id": "66e27cd8",
   "metadata": {},
   "outputs": [],
   "source": [
    "food_deserts.head(1)"
   ]
  },
  {
   "cell_type": "code",
   "execution_count": null,
   "id": "2edacee9",
   "metadata": {},
   "outputs": [],
   "source": [
    "#merged all subsets to look at trends across all food deserts\n",
    "\n",
    "trends = pd.merge(food_deserts, tn_df, left_on = 'County', right_on = 'County', how = 'inner')"
   ]
  },
  {
   "cell_type": "code",
   "execution_count": null,
   "id": "ded765f4",
   "metadata": {},
   "outputs": [],
   "source": [
    "#renamed columns\n",
    "\n",
    "tn_trends = trends.rename(columns = {'# rural residents': 'rural_pop', '% rural':'rural_perc', '% Insufficient Sleep': 'insufficient_sleep_perc',\n",
    "                        '% Enrolled in Free or Reduced Lunch':'free_lunch_perc', '% Less Than 18 Years of Age':'under_18_perc',\n",
    "                        '% Adults with Obesity':'adult_obesity_perc', '# Some College': 'some_college', '% Children in Poverty':'child_poverty_perc'})"
   ]
  },
  {
   "cell_type": "code",
   "execution_count": null,
   "id": "f10a70b3",
   "metadata": {},
   "outputs": [],
   "source": [
    "#under 18 population percentage\n",
    "\n",
    "tn_trends['under_18_pop'] = round((tn_trends['Population'] * tn_trends['under_18_perc'])/100,0)"
   ]
  },
  {
   "cell_type": "code",
   "execution_count": null,
   "id": "67157214",
   "metadata": {},
   "outputs": [],
   "source": [
    "#over 18 population percentage\n",
    "\n",
    "tn_trends['adult_population'] = (tn_trends['Population']) - (tn_trends['under_18_pop'])"
   ]
  },
  {
   "cell_type": "code",
   "execution_count": null,
   "id": "84977d42",
   "metadata": {},
   "outputs": [],
   "source": [
    "#percentage of adults with some college per tennessee county\n",
    "\n",
    "tn_trends['pop_some_college'] = round(tn_trends['some_college'] / tn_trends['adult_population'] * 100,2)"
   ]
  },
  {
   "cell_type": "code",
   "execution_count": null,
   "id": "c66c503f",
   "metadata": {},
   "outputs": [],
   "source": [
    "tn_trends.head(1)"
   ]
  },
  {
   "cell_type": "code",
   "execution_count": null,
   "id": "0dadfd13",
   "metadata": {},
   "outputs": [],
   "source": [
    "#isolated 100% rural counties in tn\n",
    "\n",
    "totally_rural = tn_trends.loc[tn_trends['rural_perc'] == 100.0].reset_index(drop=True)"
   ]
  },
  {
   "cell_type": "code",
   "execution_count": null,
   "id": "d2fbefa9",
   "metadata": {},
   "outputs": [],
   "source": [
    "totally_rural.head(1)"
   ]
  },
  {
   "cell_type": "code",
   "execution_count": null,
   "id": "9ddff822",
   "metadata": {
    "scrolled": true
   },
   "outputs": [],
   "source": [
    "#defined urban counties if rural population percentage <50%\n",
    "\n",
    "urban_trends = tn_trends.loc[tn_trends['rural_perc'] < 50.0].reset_index(drop = True)"
   ]
  },
  {
   "cell_type": "code",
   "execution_count": null,
   "id": "1586b82e",
   "metadata": {
    "scrolled": true
   },
   "outputs": [],
   "source": [
    "urban_trends.head(1)"
   ]
  },
  {
   "cell_type": "code",
   "execution_count": null,
   "id": "91de28f7",
   "metadata": {
    "scrolled": true
   },
   "outputs": [],
   "source": [
    "#There isnt a clear definition of rural according to the census. rural is determined by an area not designated as urban.\n",
    "#defined rural counties if rural population percentage > 50%\n",
    "\n",
    "rural_trends = tn_trends.loc[tn_trends['rural_perc'] > 50.0].reset_index(drop = True)"
   ]
  },
  {
   "cell_type": "code",
   "execution_count": null,
   "id": "7fd46c08",
   "metadata": {},
   "outputs": [],
   "source": [
    "national_df.head()"
   ]
  },
  {
   "cell_type": "code",
   "execution_count": null,
   "id": "893f9360",
   "metadata": {},
   "outputs": [],
   "source": [
    "#subset of national_df\n",
    "\n",
    "national_df = national_df[['County','State', '% Adults with Obesity', '# Some College', '% Children in Poverty', '20th Percentile Income']]"
   ]
  },
  {
   "cell_type": "code",
   "execution_count": null,
   "id": "8816d395",
   "metadata": {},
   "outputs": [],
   "source": [
    "national_df.head()"
   ]
  },
  {
   "cell_type": "code",
   "execution_count": null,
   "id": "2d2f0601",
   "metadata": {},
   "outputs": [],
   "source": [
    "# subset for all the states\n",
    "\n",
    "state_level = national_df.loc[national_df['County'].isnull()]"
   ]
  },
  {
   "cell_type": "code",
   "execution_count": null,
   "id": "55356a59",
   "metadata": {},
   "outputs": [],
   "source": [
    "# subset for all counties in the U.S\n",
    "\n",
    "national_county = national_df.loc[~national_df['County'].isnull()]\n",
    "national_counties = national_county[['County', 'State', '% Adults with Obesity', '# Some College', '% Children in Poverty', '20th Percentile Income']]"
   ]
  },
  {
   "cell_type": "code",
   "execution_count": null,
   "id": "da4031c6",
   "metadata": {},
   "outputs": [],
   "source": [
    "national_counties.head()"
   ]
  },
  {
   "cell_type": "code",
   "execution_count": null,
   "id": "779cb4f1",
   "metadata": {},
   "outputs": [],
   "source": [
    "#subset of usa_dataset\n",
    "\n",
    "all_states = usa_dataset[['FIPS', 'State', 'County', 'Population','# rural residents', '% rural', 'Median Household Income',\n",
    "             '% Insufficient Sleep', '% Enrolled in Free or Reduced Lunch', '% Less Than 18 Years of Age']]"
   ]
  },
  {
   "cell_type": "code",
   "execution_count": null,
   "id": "ccf331fc",
   "metadata": {},
   "outputs": [],
   "source": [
    "#null values give just the state statistics\n",
    "\n",
    "states = all_states.loc[all_states['County'].isnull()]"
   ]
  },
  {
   "cell_type": "code",
   "execution_count": null,
   "id": "7b01dab7",
   "metadata": {
    "scrolled": true
   },
   "outputs": [],
   "source": [
    "# only focused on counties\n",
    "\n",
    "all_counties = all_states.loc[~all_states['County'].isnull()]"
   ]
  },
  {
   "cell_type": "code",
   "execution_count": null,
   "id": "b895540f",
   "metadata": {},
   "outputs": [],
   "source": [
    "#subset of county df\n",
    "\n",
    "all_county_subset = all_counties[['FIPS','State','County', 'Population']]"
   ]
  },
  {
   "cell_type": "code",
   "execution_count": null,
   "id": "ed3b0004",
   "metadata": {},
   "outputs": [],
   "source": [
    "#merged states and state_level, then renamed the columns the same as other df\n",
    "\n",
    "national_stats = pd.merge(states, state_level, left_on = 'State', right_on = 'State', how = 'inner')\n",
    "national_stats = national_stats.drop(columns = {'County_x', 'County_y'})\n",
    "national_stats = national_stats.rename(columns = {'# rural residents': 'rural_pop', '% rural':'rural_perc', '% Insufficient Sleep': 'insufficient_sleep_perc','% Enrolled in Free or Reduced Lunch':'free_lunch_perc', '% Less Than 18 Years of Age':'under_18_perc',\n",
    "                        '% Adults with Obesity':'adult_obesity_perc', '# Some College': 'some_college', '% Children in Poverty':'child_poverty_perc'})"
   ]
  },
  {
   "cell_type": "code",
   "execution_count": null,
   "id": "7728b8d0",
   "metadata": {
    "scrolled": true
   },
   "outputs": [],
   "source": [
    "# data frame for all states to compare to Tennessee. What are the similarities/differences?\n",
    "\n",
    "national_stats.head()"
   ]
  },
  {
   "cell_type": "code",
   "execution_count": null,
   "id": "56ce73f2",
   "metadata": {
    "scrolled": true
   },
   "outputs": [],
   "source": [
    "tn_trends.head()"
   ]
  },
  {
   "cell_type": "code",
   "execution_count": null,
   "id": "af056273",
   "metadata": {
    "scrolled": true
   },
   "outputs": [],
   "source": [
    "state_county.head()"
   ]
  },
  {
   "cell_type": "code",
   "execution_count": null,
   "id": "22a82ca5",
   "metadata": {},
   "outputs": [],
   "source": [
    "#EDA on food access data\n",
    "\n",
    "us_county_low_access = state_county.loc[state_county['Variable_Code'] == 'LACCESS_POP15'].reset_index(drop = True)\n",
    "us_county_low_access.head(1)"
   ]
  },
  {
   "cell_type": "code",
   "execution_count": null,
   "id": "806c7657",
   "metadata": {},
   "outputs": [],
   "source": [
    "all_county_subset.head(1)"
   ]
  },
  {
   "cell_type": "code",
   "execution_count": null,
   "id": "80478195",
   "metadata": {},
   "outputs": [],
   "source": [
    "#merged low access numbers and county numbers\n",
    "\n",
    "us_counties = pd.merge(us_county_low_access, all_county_subset, on = 'FIPS', how = 'inner')"
   ]
  },
  {
   "cell_type": "code",
   "execution_count": null,
   "id": "25b4dc34",
   "metadata": {},
   "outputs": [],
   "source": [
    "#cleaned up df\n",
    "\n",
    "us_counties = us_counties.drop(columns = {'State_y','County_y'}).rename(columns = {'State_x':'state','County_x':'county','Value':\n",
    "                                                                    'low_acc_pop15'})"
   ]
  },
  {
   "cell_type": "code",
   "execution_count": null,
   "id": "cec951b2",
   "metadata": {},
   "outputs": [],
   "source": [
    "#created  a column for low access percentage by population for all US counties\n",
    "\n",
    "us_counties['low_acc_pop15'] = round(us_counties.low_acc_pop15,2)\n",
    "us_counties['la_percentage'] = round(us_counties.low_acc_pop15/us_counties.Population * 100,2)\n",
    "us_counties"
   ]
  },
  {
   "cell_type": "code",
   "execution_count": null,
   "id": "dcc1fe67",
   "metadata": {},
   "outputs": [],
   "source": [
    "#fast food restaurants for 2016, fast-food/1000 population 2016, fast food expenditures per capita 2012\n",
    "\n",
    "fast_food_county = state_county.loc[(state_county['Variable_Code'] == 'FFR16') | \n",
    "                                    (state_county['Variable_Code'] == 'FFRPTH16') |\n",
    "                                    (state_county['Variable_Code'] == 'PC_FFRSALES12')].reset_index(drop = True)"
   ]
  },
  {
   "cell_type": "code",
   "execution_count": null,
   "id": "bef59acd",
   "metadata": {},
   "outputs": [],
   "source": [
    "#subset of fast food per state\n",
    "\n",
    "state_ff_count = fast_food_county.loc[fast_food_county['Variable_Code'] == 'FFR16'].drop_duplicates('State').reset_index(drop=True)\n",
    "state_ff_count = state_ff_count[['FIPS','State','Variable_Code','Value']].rename(columns = {'Variable_Code':'ff_expenditures'})"
   ]
  },
  {
   "cell_type": "code",
   "execution_count": null,
   "id": "5adeb399",
   "metadata": {},
   "outputs": [],
   "source": [
    "#percentage of fast food restaurants per 1000 pop for all states\n",
    "\n",
    "state_ff_by_pop = fast_food_county.loc[fast_food_county['Variable_Code'] == 'FFRPTH16'].drop_duplicates('State').reset_index(drop=True)\n",
    "state_ff_by_pop = state_ff_by_pop[['FIPS','State','Variable_Code','Value']].rename(columns = {'Variable_Code':'ff_expenditures'})"
   ]
  },
  {
   "cell_type": "code",
   "execution_count": null,
   "id": "2e71ef1c",
   "metadata": {
    "scrolled": true
   },
   "outputs": [],
   "source": [
    "# state fast food expenditures\n",
    "\n",
    "state_ff_expend = fast_food_county.loc[fast_food_county['Variable_Code'] == 'PC_FFRSALES12'].drop_duplicates('State').reset_index(drop=True)\n",
    "state_ff_expend = state_ff_expend[['FIPS','State','Variable_Code','Value']].rename(columns = {'Variable_Code':'ff_expenditures'})"
   ]
  },
  {
   "cell_type": "code",
   "execution_count": null,
   "id": "6a7922c0",
   "metadata": {
    "scrolled": true
   },
   "outputs": [],
   "source": [
    "#merged the three subsets of state df's together to have only 95 rows\n",
    "\n",
    "state_food = pd.merge(state_ff_count, state_ff_by_pop, on = 'State', how = 'inner')"
   ]
  },
  {
   "cell_type": "code",
   "execution_count": null,
   "id": "3f5827f9",
   "metadata": {
    "scrolled": true
   },
   "outputs": [],
   "source": [
    "\n",
    "state_ff = pd.merge(state_food, state_ff_expend, on = 'State', how = 'inner')\n",
    "state_ff = state_ff.drop(columns = {'FIPS_y', 'FIPS'}).rename(columns = {'FIPS_x':'FIPS','ff_expenditures_x':'ff_16', 'Value_x':'ff_count',\n",
    "                                                             'ff_expenditures_y':'ff_1k', 'Value_y':'ff_percent','Value':'ff_dollars'})"
   ]
  },
  {
   "cell_type": "code",
   "execution_count": null,
   "id": "bc93ec01",
   "metadata": {
    "scrolled": true
   },
   "outputs": [],
   "source": [
    "state_ff.head()"
   ]
  },
  {
   "cell_type": "code",
   "execution_count": null,
   "id": "d1e993ab",
   "metadata": {},
   "outputs": [],
   "source": [
    "#pulled tn out of fast_food df\n",
    "\n",
    "tn_ff = fast_food_county.loc[fast_food_county['State'] == 'TN'].reset_index(drop=True)"
   ]
  },
  {
   "cell_type": "code",
   "execution_count": null,
   "id": "9c0ac32c",
   "metadata": {},
   "outputs": [],
   "source": [
    "tn_ff.head()"
   ]
  },
  {
   "cell_type": "code",
   "execution_count": null,
   "id": "bc303b87",
   "metadata": {},
   "outputs": [],
   "source": [
    "# tried a loop on the variable code, but had too many NaN values\n",
    "\n",
    "\n",
    "# for index, row in tn_ff.iterrows():\n",
    "#     if row.Variable_Code == \"FFR16\":\n",
    "#         tn_ff.loc[index, 'fast_food16'] = tn_ff.loc[index, 'Value']\n",
    "#     elif row.Variable_Code == \"FFRPTH16\":\n",
    "#         tn_ff.loc[index, 'ff_1k'] = tn_ff.loc[index, 'Value']\n",
    "#     elif row.Variable_Code == \"PC_FFRSALES12\":\n",
    "#         tn_ff.loc[index, \"ff_expenditures\"] = tn_ff.loc[index, 'Value']\n",
    "#     else:\n",
    "#         tn_ff.loc[index, \"fast_food16\"] = -1"
   ]
  },
  {
   "cell_type": "code",
   "execution_count": null,
   "id": "c20399e5",
   "metadata": {},
   "outputs": [],
   "source": [
    "#subset data for each individual variable code\n",
    "\n",
    "tn_ff_count = tn_ff.loc[tn_ff['Variable_Code'] == 'FFR16'].reset_index(drop=True)\n",
    "tn_ff_count = tn_ff_count[['FIPS','State','County','Variable_Code','Value']].rename(columns = {'Variable_Code':'ff_count'})\n",
    "#tn_ff_count"
   ]
  },
  {
   "cell_type": "code",
   "execution_count": null,
   "id": "2d873eb4",
   "metadata": {},
   "outputs": [],
   "source": [
    "#tennessee fast food percentage per 1000 pop\n",
    "\n",
    "tn_ff_perc = tn_ff.loc[tn_ff['Variable_Code'] == 'FFRPTH16'].reset_index(drop=True)\n",
    "tn_ff_perc = tn_ff_perc[['FIPS','State','County','Variable_Code','Value']].rename(columns = {'Variable_Code':'ff_1k', 'Value': 'ff_percent'})\n",
    "#tn_ff_perc"
   ]
  },
  {
   "cell_type": "code",
   "execution_count": null,
   "id": "7d138ee3",
   "metadata": {},
   "outputs": [],
   "source": [
    "#expenditures is by state, cant look at it by county for Tennessee\n",
    "\n",
    "# tn_ff_expend = tn_ff.loc[tn_ff['Variable_Code'] == 'PC_FFRSALES12'].reset_index(drop=True)\n",
    "# tn_ff_expend = tn_ff_expend[['FIPS','State','County','Variable_Code','Value']].rename(columns = {'Variable_Code':'ff_expenditures', 'Value': 'ff_dollars'})\n",
    "# #tn_ff_expend"
   ]
  },
  {
   "cell_type": "code",
   "execution_count": null,
   "id": "5ba10468",
   "metadata": {
    "scrolled": true
   },
   "outputs": [],
   "source": [
    "#merged the three subsets together\n",
    "\n",
    "tn_county_ff = pd.merge(tn_ff_count, tn_ff_perc, on = 'County', how = 'inner')"
   ]
  },
  {
   "cell_type": "code",
   "execution_count": null,
   "id": "72aa7de0",
   "metadata": {},
   "outputs": [],
   "source": [
    "# tn_county_ff = pd.merge(tn_county_ff, tn_ff_expend, on = 'County', how = 'inner')"
   ]
  },
  {
   "cell_type": "code",
   "execution_count": null,
   "id": "26d68841",
   "metadata": {},
   "outputs": [],
   "source": [
    "#dropped druplicate columns after merge\n",
    "\n",
    "tn_county_ff = tn_county_ff.drop(columns = {'FIPS_y','State_y'})"
   ]
  },
  {
   "cell_type": "code",
   "execution_count": null,
   "id": "cf51180e",
   "metadata": {},
   "outputs": [],
   "source": [
    "tn_county_ff.head(1)"
   ]
  },
  {
   "cell_type": "code",
   "execution_count": null,
   "id": "9279c99f",
   "metadata": {},
   "outputs": [],
   "source": [
    "# export to csv for tn_counties notebook\n",
    "# tn_county_ff.to_csv('../data/tn_ff.csv', index = False)"
   ]
  },
  {
   "cell_type": "code",
   "execution_count": null,
   "id": "5f33c6d9",
   "metadata": {},
   "outputs": [],
   "source": [
    "#df of all Tennessee food environment statistics\n",
    "\n",
    "tn_stats = state_county.loc[state_county['State'] == 'TN']"
   ]
  },
  {
   "cell_type": "code",
   "execution_count": null,
   "id": "f0eb9416",
   "metadata": {},
   "outputs": [],
   "source": [
    "#df of grocery, supercenters, and specialized markets\n",
    "\n",
    "tn_grocery = tn_stats.loc[(tn_stats['Variable_Code'] == 'GROC16') | (tn_stats['Variable_Code'] == 'SUPERC16')|\n",
    "                         (tn_stats['Variable_Code'] == 'SPECS16')].reset_index(drop=True)\n",
    "#tn_grocery.to_csv('../data/tn_grocery.csv', index = False)"
   ]
  },
  {
   "cell_type": "code",
   "execution_count": null,
   "id": "0889fcca",
   "metadata": {},
   "outputs": [],
   "source": [
    "tn_grocery.head(1)"
   ]
  },
  {
   "cell_type": "code",
   "execution_count": null,
   "id": "b2d85cba",
   "metadata": {},
   "outputs": [],
   "source": [
    "#sum of all stores by Tennessee County\n",
    "\n",
    "tn_groc_count = tn_grocery.groupby(['County'])['Value'].sum().to_frame().reset_index()\n",
    "tn_groc_count"
   ]
  },
  {
   "cell_type": "code",
   "execution_count": null,
   "id": "417bc795",
   "metadata": {},
   "outputs": [],
   "source": [
    "#merged fast food restaurants and grocery store count for all Tennessee Counties\n",
    "\n",
    "tn_county_resources = pd.merge(tn_county_ff, tn_groc_count, on = 'County', how = 'inner').rename(columns = {'FIPS_x':'FIPS', 'State_x':'state','Value_x':'ff_count','Value_y':'groc_store_count'})"
   ]
  },
  {
   "cell_type": "code",
   "execution_count": null,
   "id": "b9064f16",
   "metadata": {
    "scrolled": true
   },
   "outputs": [],
   "source": [
    "tn_county_resources.head(1)"
   ]
  },
  {
   "cell_type": "code",
   "execution_count": null,
   "id": "cda84659",
   "metadata": {},
   "outputs": [],
   "source": [
    "#same as grocery stores. Pulled farm variables from dataframe\n",
    "\n",
    "tn_farms = tn_stats.loc[(tn_stats['Variable_Code'] == 'FMRKT13') | (tn_stats['Variable_Code'] == 'FRESHVEG_FARMS12') | \n",
    "              (tn_stats['Variable_Code'] == 'BERRY_FARMS12') | (tn_stats['Variable_Code'] == 'ORCHARD_FARMS12')].reset_index(drop = True)"
   ]
  },
  {
   "cell_type": "code",
   "execution_count": null,
   "id": "cc00cc68",
   "metadata": {},
   "outputs": [],
   "source": [
    "#total farm count by Tennessee county\n",
    "\n",
    "tn_farm_count = tn_farms.groupby(['County'])['Value'].sum().to_frame().reset_index()\n",
    "tn_farm_count.head(1)"
   ]
  },
  {
   "cell_type": "code",
   "execution_count": null,
   "id": "ce2ab5e3",
   "metadata": {},
   "outputs": [],
   "source": [
    "#merged farm counts to rest of Tennesse county resource table\n",
    "\n",
    "tn_county_resources = pd.merge(tn_county_resources, tn_farm_count, on = 'County', how = 'inner').rename(columns = {'Value':'farm_count'})"
   ]
  },
  {
   "cell_type": "code",
   "execution_count": null,
   "id": "884ff3c7",
   "metadata": {},
   "outputs": [],
   "source": [
    "#exported for tn_counties notebook\n",
    "\n",
    "# tn_county_resources.to_csv('../data/tn_farms.csv', index = False)"
   ]
  },
  {
   "cell_type": "code",
   "execution_count": null,
   "id": "5113f4be",
   "metadata": {},
   "outputs": [],
   "source": [
    "#EDA of Trousdale County. Missing some data that was impacting an attempted merge\n",
    "\n",
    "state_county.loc[state_county['County'] == 'Trousdale']"
   ]
  },
  {
   "cell_type": "code",
   "execution_count": null,
   "id": "44253278",
   "metadata": {},
   "outputs": [],
   "source": [
    "#df of tennessee county population with no vehicle and low access to food\n",
    "\n",
    "la_no_vehicle = state_county.loc[(state_county['State'] == 'TN') & (state_county['Variable_Code'] == 'LACCESS_HHNV15')]"
   ]
  },
  {
   "cell_type": "code",
   "execution_count": null,
   "id": "0ba65589",
   "metadata": {},
   "outputs": [],
   "source": [
    "#df of low access population for 2015\n",
    "\n",
    "la_2015= state_county.loc[(state_county['State'] == 'TN') & (state_county['Variable_Code'] == 'LACCESS_POP15')]"
   ]
  },
  {
   "cell_type": "code",
   "execution_count": null,
   "id": "7c9da83f",
   "metadata": {
    "scrolled": true
   },
   "outputs": [],
   "source": [
    "#merged no vehicle to tn_trends df\n",
    "\n",
    "tn_trends = pd.merge(tn_trends, la_no_vehicle, on= 'County', how ='inner')"
   ]
  },
  {
   "cell_type": "code",
   "execution_count": null,
   "id": "e1bb7054",
   "metadata": {},
   "outputs": [],
   "source": [
    "#merged low access pop 2015 to rest of tn_trends df\n",
    "tn_trends = pd.merge(tn_trends, la_2015, on = 'County', how = 'left')"
   ]
  },
  {
   "cell_type": "code",
   "execution_count": null,
   "id": "eac8d505",
   "metadata": {
    "scrolled": true
   },
   "outputs": [],
   "source": [
    "#cleaned up tn_trends df\n",
    "tn_trends = tn_trends.drop(columns = {'FIPS_y', 'State_y', 'FIPS_x', 'State_x','Variable_Code_x', 'Variable_Code_y' }).rename(columns = {'lapop10':'lapop_10mile','la_numbers':'la_2010',\n",
    "                                                                                     'Value_x':'la_no_car_count','Value_y':'la_2015_count'})"
   ]
  },
  {
   "cell_type": "code",
   "execution_count": null,
   "id": "70bfb02c",
   "metadata": {},
   "outputs": [],
   "source": [
    "#percentage of low access population for 2010\n",
    "\n",
    "tn_trends['low_access_percent'] = tn_trends.la_2010/tn_trends.Population * 100"
   ]
  },
  {
   "cell_type": "code",
   "execution_count": null,
   "id": "8533fe99",
   "metadata": {
    "scrolled": true
   },
   "outputs": [],
   "source": [
    "food_df.head(1)"
   ]
  },
  {
   "cell_type": "code",
   "execution_count": null,
   "id": "c749d6f3",
   "metadata": {
    "scrolled": true
   },
   "outputs": [],
   "source": [
    "#sum of population not within 10 miles of a grocery store per state\n",
    "\n",
    "state_lapop_10miles = food_df.groupby('State')['lapop10'].sum().to_frame().reset_index()\n",
    "state_lapop_10miles"
   ]
  },
  {
   "cell_type": "code",
   "execution_count": null,
   "id": "4a4ebfe2",
   "metadata": {},
   "outputs": [],
   "source": [
    "#merged population not within 10 miles of a grocery store with national df\n",
    "\n",
    "national_stats = pd.merge(national_stats, state_lapop_10miles, on = 'State', how = 'inner')"
   ]
  },
  {
   "cell_type": "code",
   "execution_count": null,
   "id": "2d9cc2e2",
   "metadata": {
    "scrolled": true
   },
   "outputs": [],
   "source": [
    "national_stats.head(1)"
   ]
  },
  {
   "cell_type": "code",
   "execution_count": null,
   "id": "cd78e5b0",
   "metadata": {},
   "outputs": [],
   "source": [
    "rural_trends.head(1)"
   ]
  },
  {
   "cell_type": "code",
   "execution_count": null,
   "id": "b78592a8",
   "metadata": {},
   "outputs": [],
   "source": [
    "urban_trends.head(1)"
   ]
  },
  {
   "cell_type": "code",
   "execution_count": null,
   "id": "c0b5c076",
   "metadata": {},
   "outputs": [],
   "source": [
    "tn_county_ff.head(1)"
   ]
  },
  {
   "cell_type": "code",
   "execution_count": null,
   "id": "26617ec9",
   "metadata": {},
   "outputs": [],
   "source": [
    "tn_trends.head(1)"
   ]
  },
  {
   "cell_type": "code",
   "execution_count": null,
   "id": "2c33196b",
   "metadata": {},
   "outputs": [],
   "source": [
    "tn_county_resources.head(1)"
   ]
  },
  {
   "cell_type": "code",
   "execution_count": null,
   "id": "ebc4e696",
   "metadata": {},
   "outputs": [],
   "source": [
    "national_stats.head(1)"
   ]
  },
  {
   "cell_type": "code",
   "execution_count": null,
   "id": "b81269d8",
   "metadata": {
    "scrolled": true
   },
   "outputs": [],
   "source": [
    "state_ff.head(1)"
   ]
  },
  {
   "cell_type": "code",
   "execution_count": null,
   "id": "1e727ce1",
   "metadata": {},
   "outputs": [],
   "source": [
    "#exporting for dashboards\n",
    "rural_trends.to_csv('../data/dashboard_csv/rural_food_trends.csv', index = False)\n",
    "urban_trends.to_csv('../data/dashboard_csv/urban_food_trends.csv', index = False)\n",
    "tn_trends.to_csv('../data/dashboard_csv/all_tn_county_trends.csv', index = False)\n",
    "#tn_county_ff.to_csv('../data/dashboard_csv/tn_ff.csv', index = False)\n",
    "tn_county_resources.to_csv('../data/dashboard_csv/tn_resources.csv', index = False)\n",
    "national_stats.to_csv('../data/dashboard_csv/national_stats.csv', index = False)\n",
    "state_ff.to_csv('../data/dashboard_csv/state_ff.csv', index = False)\n",
    "us_counties.to_csv('../data/dashboard_csv/us_counties.csv', index = False)"
   ]
  }
 ],
 "metadata": {
  "kernelspec": {
   "display_name": "Python 3 (ipykernel)",
   "language": "python",
   "name": "python3"
  },
  "language_info": {
   "codemirror_mode": {
    "name": "ipython",
    "version": 3
   },
   "file_extension": ".py",
   "mimetype": "text/x-python",
   "name": "python",
   "nbconvert_exporter": "python",
   "pygments_lexer": "ipython3",
   "version": "3.9.13"
  }
 },
 "nbformat": 4,
 "nbformat_minor": 5
}
